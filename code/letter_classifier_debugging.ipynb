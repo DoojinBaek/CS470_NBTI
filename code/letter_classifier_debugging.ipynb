{
 "cells": [
  {
   "cell_type": "code",
   "execution_count": 3,
   "id": "165a7daa",
   "metadata": {},
   "outputs": [
    {
     "name": "stderr",
     "output_type": "stream",
     "text": [
      "/root/anaconda3/envs/word/lib/python3.8/site-packages/tqdm/auto.py:21: TqdmWarning: IProgress not found. Please update jupyter and ipywidgets. See https://ipywidgets.readthedocs.io/en/stable/user_install.html\n",
      "  from .autonotebook import tqdm as notebook_tqdm\n"
     ]
    }
   ],
   "source": [
    "import os\n",
    "import torch\n",
    "import numpy as np\n",
    "import pandas as pd\n",
    "import torch.nn.functional as F"
   ]
  },
  {
   "cell_type": "code",
   "execution_count": 4,
   "id": "a06bb400",
   "metadata": {},
   "outputs": [],
   "source": [
    "device = 'cuda'\n",
    "batch_size = 32\n",
    "num_epochs = 100\n",
    "learning_rate = 0.001"
   ]
  },
  {
   "cell_type": "code",
   "execution_count": 5,
   "id": "5fbe28cc",
   "metadata": {},
   "outputs": [],
   "source": [
    "class Classifier(torch.nn.Module):\n",
    "\n",
    "    def __init__(self):\n",
    "        super(Classifier, self).__init__()\n",
    "        self.layer1 = torch.nn.Sequential(\n",
    "            torch.nn.Conv2d(1, 10, kernel_size=3, stride=2, padding=1),\n",
    "            torch.nn.ReLU(),\n",
    "            torch.nn.MaxPool2d(kernel_size=2, stride=2)\n",
    "        )\n",
    "        self.layer2 = torch.nn.Sequential(\n",
    "            torch.nn.Conv2d(10, 20, kernel_size=3, stride=2, padding=1),\n",
    "            torch.nn.ReLU(),\n",
    "            torch.nn.MaxPool2d(kernel_size=2, stride=2)\n",
    "        )\n",
    "        self.layer3 = torch.nn.Sequential(\n",
    "            torch.nn.Conv2d(20, 32, kernel_size=3, stride=2, padding=1),\n",
    "            torch.nn.ReLU(),\n",
    "            torch.nn.MaxPool2d(kernel_size=2, stride=2)\n",
    "        )\n",
    "        self.layer4 = torch.nn.Sequential(\n",
    "            torch.nn.Linear(32*9*9, 256, bias=False),\n",
    "            torch.nn.ReLU(),\n",
    "            torch.nn.MaxPool1d(kernel_size=2, stride=2),\n",
    "            torch.nn.Linear(128, 64),\n",
    "            torch.nn.ReLU(),\n",
    "            torch.nn.Linear(64, 26)\n",
    "        )\n",
    "        self.dropout = torch.nn.Dropout(0.3)\n",
    "    \n",
    "    def forward(self, x):\n",
    "\n",
    "        x = self.layer1(x)\n",
    "        x = self.layer2(x)\n",
    "        x = self.dropout(x)\n",
    "        x = self.layer3(x)\n",
    "        x = self.dropout(x)\n",
    "        out = self.layer4(x.reshape(x.shape[0], -1)) # input: batch_size x all_features\n",
    "\n",
    "        return out # batch_size x 26"
   ]
  },
  {
   "cell_type": "code",
   "execution_count": 17,
   "id": "15f9fd78",
   "metadata": {},
   "outputs": [],
   "source": [
    "class Classifier(torch.nn.Module):\n",
    "\n",
    "    def __init__(self):\n",
    "        super(Classifier, self).__init__()\n",
    "    \n",
    "        self.conv1 = torch.nn.Conv2d(1, 10, kernel_size=3, stride=2, padding=1)\n",
    "        self.conv2 = torch.nn.Conv2d(10, 20, kernel_size=3, stride=2, padding=1)\n",
    "        self.conv3 = torch.nn.Conv2d(20, 32, kernel_size=3, stride=2, padding=1)\n",
    "        self.linear1 = torch.nn.Linear(32*9*9, 256)\n",
    "        self.linear2 = torch.nn.Linear(128, 64)\n",
    "        self.linear3 = torch.nn.Linear(64, 26)\n",
    "        self.relu = torch.nn.ReLU()\n",
    "        self.dropout = torch.nn.Dropout(0.3)\n",
    "        self.max_pool2d = torch.nn.MaxPool2d(kernel_size=2, stride=2)\n",
    "        self.max_pool1d = torch.nn.MaxPool1d(kernel_size=2, stride=2)\n",
    "    \n",
    "    def forward(self, x):\n",
    "        print(x.shape)\n",
    "        x = self.conv1(x)\n",
    "        print(x.shape)\n",
    "        x = self.max_pool2d(x)\n",
    "        print(x.shape)\n",
    "        x = self.conv2(x)\n",
    "        print(x.shape)\n",
    "        x = self.max_pool2d(x)\n",
    "        print(x.shape)\n",
    "        x = self.conv3(x)\n",
    "        print(x.shape)\n",
    "        x = self.max_pool2d(x)\n",
    "        print(x.shape)\n",
    "        x = x.reshape(x.shape[0], -1)\n",
    "        print(x.shape)\n",
    "        x = self.linear1(x)\n",
    "        print(x.shape)\n",
    "        x = self.max_pool1d(x)\n",
    "        print(x.shape)\n",
    "        x = self.linear2(x)\n",
    "        print(x.shape)\n",
    "        x = self.linear3(x)\n",
    "        print(x.shape)\n",
    "        out = x\n",
    "\n",
    "        return out # batch_size x 26"
   ]
  },
  {
   "cell_type": "code",
   "execution_count": 18,
   "id": "22e4ff43",
   "metadata": {},
   "outputs": [],
   "source": [
    "model = Classifier().to(device)"
   ]
  },
  {
   "cell_type": "code",
   "execution_count": 19,
   "id": "71908113",
   "metadata": {},
   "outputs": [],
   "source": [
    "data = torch.rand((batch_size, 1, 600, 600)).to(device) # batch x 1 x 600 x 600 (batch, channel, width, height)"
   ]
  },
  {
   "cell_type": "code",
   "execution_count": 20,
   "id": "a1e89fdb",
   "metadata": {},
   "outputs": [
    {
     "name": "stdout",
     "output_type": "stream",
     "text": [
      "torch.Size([32, 1, 600, 600])\n",
      "torch.Size([32, 10, 300, 300])\n",
      "torch.Size([32, 10, 150, 150])\n",
      "torch.Size([32, 20, 75, 75])\n",
      "torch.Size([32, 20, 37, 37])\n",
      "torch.Size([32, 32, 19, 19])\n",
      "torch.Size([32, 32, 9, 9])\n",
      "torch.Size([32, 2592])\n",
      "torch.Size([32, 256])\n",
      "torch.Size([32, 128])\n",
      "torch.Size([32, 64])\n",
      "torch.Size([32, 26])\n"
     ]
    }
   ],
   "source": [
    "pred = model(data)"
   ]
  },
  {
   "cell_type": "code",
   "execution_count": 9,
   "id": "227b6342",
   "metadata": {},
   "outputs": [
    {
     "data": {
      "text/plain": [
       "tensor([ 0.0012, -0.0746, -0.0796, -0.0873,  0.0594, -0.1061,  0.0502, -0.0424,\n",
       "         0.0047,  0.1587,  0.0389, -0.1296, -0.1328,  0.0540,  0.0680,  0.0615,\n",
       "        -0.0664, -0.0823,  0.0388,  0.0885,  0.0009,  0.0117,  0.0006,  0.0541,\n",
       "         0.0051, -0.0097], device='cuda:0', grad_fn=<SelectBackward0>)"
      ]
     },
     "execution_count": 9,
     "metadata": {},
     "output_type": "execute_result"
    }
   ],
   "source": [
    "pred[0]"
   ]
  },
  {
   "cell_type": "code",
   "execution_count": 25,
   "id": "81e0f3bb",
   "metadata": {},
   "outputs": [],
   "source": [
    "softmax = torch.nn.Softmax(dim=1)"
   ]
  },
  {
   "cell_type": "code",
   "execution_count": 26,
   "id": "2b3c7af2",
   "metadata": {},
   "outputs": [],
   "source": [
    "prob = softmax(pred)"
   ]
  },
  {
   "cell_type": "code",
   "execution_count": 30,
   "id": "837702ae",
   "metadata": {},
   "outputs": [
    {
     "data": {
      "text/plain": [
       "tensor(9, device='cuda:0')"
      ]
     },
     "execution_count": 30,
     "metadata": {},
     "output_type": "execute_result"
    }
   ],
   "source": [
    "torch.argmax(prob[0])"
   ]
  },
  {
   "cell_type": "code",
   "execution_count": 31,
   "id": "460c3a9a",
   "metadata": {},
   "outputs": [
    {
     "data": {
      "text/plain": [
       "tensor([0.0386, 0.0358, 0.0356, 0.0353, 0.0409, 0.0347, 0.0405, 0.0369, 0.0387,\n",
       "        0.0452, 0.0401, 0.0338, 0.0337, 0.0407, 0.0412, 0.0410, 0.0361, 0.0355,\n",
       "        0.0401, 0.0421, 0.0386, 0.0390, 0.0386, 0.0407, 0.0387, 0.0382],\n",
       "       device='cuda:0', grad_fn=<SelectBackward0>)"
      ]
     },
     "execution_count": 31,
     "metadata": {},
     "output_type": "execute_result"
    }
   ],
   "source": [
    "prob[0]"
   ]
  },
  {
   "cell_type": "code",
   "execution_count": 39,
   "id": "535b44fc",
   "metadata": {},
   "outputs": [
    {
     "data": {
      "text/plain": [
       "tensor([9, 9, 9, 9, 9, 9, 9, 9, 9, 9, 9, 9, 9, 9, 9, 9, 9, 9, 9, 9, 9, 9, 9, 9,\n",
       "        9, 9, 9, 9, 9, 9, 9, 9], device='cuda:0')"
      ]
     },
     "execution_count": 39,
     "metadata": {},
     "output_type": "execute_result"
    }
   ],
   "source": [
    "torch.argmax(pred, axis=1)"
   ]
  },
  {
   "cell_type": "code",
   "execution_count": null,
   "id": "b59a084e",
   "metadata": {},
   "outputs": [],
   "source": [
    "def cal_acc(pred, label):\n",
    "    '''\n",
    "    pred: batch_size x 26 with probabilities\n",
    "    label: batch_size x 26 in one-hot format\n",
    "    '''\n",
    "    pred_word = torch.argmax(pred, axis=1)\n",
    "    label_word = torch.argmax(label, axis=1)\n",
    "    correct_pred_counts = torch.sum(pred_word == pred_word)\n",
    "    \n",
    "    acc = correct_pred_counts.item() / len(pred) # just float not torch\n",
    "    \n",
    "    return acc"
   ]
  },
  {
   "cell_type": "code",
   "execution_count": 42,
   "id": "9716b9a0",
   "metadata": {},
   "outputs": [],
   "source": [
    "pred = torch.randn((32,26))\n",
    "label = torch.randn((32,26))"
   ]
  },
  {
   "cell_type": "code",
   "execution_count": 45,
   "id": "28e788f9",
   "metadata": {},
   "outputs": [],
   "source": []
  },
  {
   "cell_type": "code",
   "execution_count": 46,
   "id": "eecc2d25",
   "metadata": {},
   "outputs": [],
   "source": []
  },
  {
   "cell_type": "code",
   "execution_count": 48,
   "id": "eecdb854",
   "metadata": {},
   "outputs": [
    {
     "data": {
      "text/plain": [
       "tensor(32)"
      ]
     },
     "execution_count": 48,
     "metadata": {},
     "output_type": "execute_result"
    }
   ],
   "source": [
    "torch.sum(pred_word == pred_word)"
   ]
  },
  {
   "cell_type": "code",
   "execution_count": null,
   "id": "1ecd5c49",
   "metadata": {},
   "outputs": [],
   "source": [
    "pred_word"
   ]
  }
 ],
 "metadata": {
  "kernelspec": {
   "display_name": "word",
   "language": "python",
   "name": "word"
  },
  "language_info": {
   "codemirror_mode": {
    "name": "ipython",
    "version": 3
   },
   "file_extension": ".py",
   "mimetype": "text/x-python",
   "name": "python",
   "nbconvert_exporter": "python",
   "pygments_lexer": "ipython3",
   "version": "3.8.15"
  }
 },
 "nbformat": 4,
 "nbformat_minor": 5
}
