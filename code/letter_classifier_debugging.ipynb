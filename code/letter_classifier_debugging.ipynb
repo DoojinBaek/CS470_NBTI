{
 "cells": [
  {
   "cell_type": "code",
   "execution_count": 140,
   "id": "165a7daa",
   "metadata": {},
   "outputs": [],
   "source": [
    "import os\n",
    "import torch\n",
    "import numpy as np\n",
    "import pandas as pd\n",
    "import torch.nn.functional as F"
   ]
  },
  {
   "cell_type": "code",
   "execution_count": 141,
   "id": "a06bb400",
   "metadata": {},
   "outputs": [],
   "source": [
    "device = 'cuda'\n",
    "batch_size = 32\n",
    "num_epochs = 100\n",
    "learning_rate = 0.001"
   ]
  },
  {
   "cell_type": "code",
   "execution_count": 5,
   "id": "5fbe28cc",
   "metadata": {},
   "outputs": [],
   "source": [
    "class Classifier(torch.nn.Module):\n",
    "\n",
    "    def __init__(self):\n",
    "        super(Classifier, self).__init__()\n",
    "        self.layer1 = torch.nn.Sequential(\n",
    "            torch.nn.Conv2d(1, 10, kernel_size=3, stride=3, padding=1),\n",
    "            torch.nn.ReLU(),\n",
    "            torch.nn.MaxPool2d(kernel_size=2, stride=2)\n",
    "        )\n",
    "        self.layer2 = torch.nn.Sequential(\n",
    "            torch.nn.Conv2d(10, 20, kernel_size=3, stride=3, padding=1),\n",
    "            torch.nn.ReLU(),\n",
    "            torch.nn.MaxPool2d(kernel_size=2, stride=2)\n",
    "        )\n",
    "        self.layer3 = torch.nn.Sequential(\n",
    "            torch.nn.Conv2d(20, 32, kernel_size=3, stride=2, padding=1),\n",
    "            torch.nn.ReLU(),\n",
    "            torch.nn.MaxPool2d(kernel_size=2, stride=2)\n",
    "        )\n",
    "        self.layer4 = torch.nn.Sequential(\n",
    "            torch.nn.Linear(32*9*9, 256, bias=False),\n",
    "            torch.nn.ReLU(),\n",
    "            torch.nn.MaxPool1d(kernel_size=2, stride=2),\n",
    "            torch.nn.Linear(128, 64),\n",
    "            torch.nn.ReLU(),\n",
    "            torch.nn.Linear(64, 26)\n",
    "        )\n",
    "        self.dropout = torch.nn.Dropout(0.3)\n",
    "    \n",
    "    def forward(self, x):\n",
    "\n",
    "        x = self.layer1(x)\n",
    "        x = self.layer2(x)\n",
    "        x = self.dropout(x)\n",
    "        x = self.layer3(x)\n",
    "        x = self.dropout(x)\n",
    "        out = self.layer4(x.reshape(x.shape[0], -1)) # input: batch_size x all_features\n",
    "\n",
    "        return out # batch_size x 26"
   ]
  },
  {
   "cell_type": "code",
   "execution_count": 185,
   "id": "15f9fd78",
   "metadata": {},
   "outputs": [],
   "source": [
    "class Classifier(torch.nn.Module):\n",
    "\n",
    "    def __init__(self):\n",
    "        super(Classifier, self).__init__()\n",
    "    \n",
    "        self.first_pooling = torch.nn.MaxPool2d(kernel_size=2, stride=2)\n",
    "        self.conv1 = torch.nn.Conv2d(1, 10, kernel_size=3, stride=3, padding=1)\n",
    "        self.conv2 = torch.nn.Conv2d(10, 20, kernel_size=3, stride=3, padding=1)\n",
    "        self.conv3 = torch.nn.Conv2d(20, 32, kernel_size=2, stride=2, padding=1)\n",
    "        self.conv4 = torch.nn.Conv2d(32, 52, kernel_size=2, stride=2, padding=1)\n",
    "        self.conv5 = torch.nn.Conv2d(52, 52, kernel_size=2, stride=2, padding=1)\n",
    "        \n",
    "        self.linear1 = torch.nn.Linear(32*10*10, 256)\n",
    "        self.linear2 = torch.nn.Linear(128, 64)\n",
    "        self.linear3 = torch.nn.Linear(64, 52)\n",
    "        self.relu = torch.nn.ReLU()\n",
    "        self.dropout = torch.nn.Dropout(0.3)\n",
    "        self.max_pool2d = torch.nn.MaxPool2d(kernel_size=2, stride=2)\n",
    "        self.max_pool1d = torch.nn.MaxPool1d(kernel_size=2, stride=2)\n",
    "    \n",
    "    def forward(self, x):\n",
    "#         print(x.shape)32, \n",
    "#         x = self.first_pooling(x)\n",
    "        print(x.shape)\n",
    "        x = self.conv1(x)\n",
    "        print(x.shape)\n",
    "        x = self.max_pool2d(x)\n",
    "        print(x.shape)\n",
    "        x = self.conv2(x)\n",
    "        print(x.shape)\n",
    "        x = self.max_pool2d(x)\n",
    "        print(x.shape)\n",
    "        x = self.conv3(x)\n",
    "        print(x.shape)\n",
    "        x = self.max_pool2d(x)\n",
    "        print(x.shape)\n",
    "        x = self.conv4(x)\n",
    "        print(x.shape)\n",
    "        x = self.max_pool2d(x)\n",
    "        print(x.shape)\n",
    "        x = x.reshape(x.shape[0], -1)\n",
    "        print(x.shape)\n",
    "#         x = self.linear1(x)\n",
    "#         print(x.shape)\n",
    "#         x = self.max_pool1d(x)\n",
    "#         print(x.shape)\n",
    "#         x = self.linear2(x)\n",
    "#         print(x.shape)\n",
    "#         x = self.linear3(x)\n",
    "#         print(x.shape)\n",
    "        out = x\n",
    "\n",
    "        return out # batch_size x 26"
   ]
  },
  {
   "cell_type": "code",
   "execution_count": 186,
   "id": "22e4ff43",
   "metadata": {},
   "outputs": [],
   "source": [
    "model = Classifier().to(device)"
   ]
  },
  {
   "cell_type": "code",
   "execution_count": 187,
   "id": "71908113",
   "metadata": {},
   "outputs": [],
   "source": [
    "data = torch.rand((batch_size, 1, 600, 600)).to(device) # batch x 1 x 600 x 600 (batch, channel, width, height)"
   ]
  },
  {
   "cell_type": "code",
   "execution_count": 188,
   "id": "a1e89fdb",
   "metadata": {},
   "outputs": [
    {
     "name": "stdout",
     "output_type": "stream",
     "text": [
      "torch.Size([32, 1, 600, 600])\n",
      "torch.Size([32, 10, 200, 200])\n",
      "torch.Size([32, 10, 100, 100])\n",
      "torch.Size([32, 20, 34, 34])\n",
      "torch.Size([32, 20, 17, 17])\n",
      "torch.Size([32, 32, 9, 9])\n",
      "torch.Size([32, 32, 4, 4])\n",
      "torch.Size([32, 52, 3, 3])\n",
      "torch.Size([32, 52, 1, 1])\n",
      "torch.Size([32, 52])\n"
     ]
    }
   ],
   "source": [
    "pred = model(data)"
   ]
  },
  {
   "cell_type": "code",
   "execution_count": 184,
   "id": "227b6342",
   "metadata": {},
   "outputs": [
    {
     "data": {
      "text/plain": [
       "tensor([ 0.0671,  0.1723, -0.0190,  0.0260, -0.0988, -0.0387,  0.2059,  0.0885,\n",
       "         0.2624,  0.0313,  0.0182,  0.1699,  0.1707, -0.0334,  0.1557,  0.0564,\n",
       "         0.0178,  0.0208, -0.0300,  0.2163, -0.0585, -0.0453,  0.0852, -0.0350,\n",
       "         0.0780,  0.2310,  0.0809,  0.0809, -0.0080,  0.1056,  0.0605,  0.0459,\n",
       "         0.0986, -0.0494,  0.1439,  0.1302,  0.1783,  0.0986,  0.0202,  0.0770,\n",
       "        -0.0204,  0.1131,  0.1106,  0.1113,  0.1346,  0.0755, -0.0217,  0.0218,\n",
       "        -0.1104, -0.0822, -0.0685,  0.0742], device='cuda:0',\n",
       "       grad_fn=<SelectBackward0>)"
      ]
     },
     "execution_count": 184,
     "metadata": {},
     "output_type": "execute_result"
    }
   ],
   "source": [
    "pred[0]"
   ]
  },
  {
   "cell_type": "code",
   "execution_count": 25,
   "id": "81e0f3bb",
   "metadata": {},
   "outputs": [],
   "source": [
    "softmax = torch.nn.Softmax(dim=1)"
   ]
  },
  {
   "cell_type": "code",
   "execution_count": 26,
   "id": "2b3c7af2",
   "metadata": {},
   "outputs": [],
   "source": [
    "prob = softmax(pred)"
   ]
  },
  {
   "cell_type": "code",
   "execution_count": 30,
   "id": "837702ae",
   "metadata": {},
   "outputs": [
    {
     "data": {
      "text/plain": [
       "tensor(9, device='cuda:0')"
      ]
     },
     "execution_count": 30,
     "metadata": {},
     "output_type": "execute_result"
    }
   ],
   "source": [
    "torch.argmax(prob[0])"
   ]
  },
  {
   "cell_type": "code",
   "execution_count": 31,
   "id": "460c3a9a",
   "metadata": {},
   "outputs": [
    {
     "data": {
      "text/plain": [
       "tensor([0.0386, 0.0358, 0.0356, 0.0353, 0.0409, 0.0347, 0.0405, 0.0369, 0.0387,\n",
       "        0.0452, 0.0401, 0.0338, 0.0337, 0.0407, 0.0412, 0.0410, 0.0361, 0.0355,\n",
       "        0.0401, 0.0421, 0.0386, 0.0390, 0.0386, 0.0407, 0.0387, 0.0382],\n",
       "       device='cuda:0', grad_fn=<SelectBackward0>)"
      ]
     },
     "execution_count": 31,
     "metadata": {},
     "output_type": "execute_result"
    }
   ],
   "source": [
    "prob[0]"
   ]
  },
  {
   "cell_type": "code",
   "execution_count": 39,
   "id": "535b44fc",
   "metadata": {},
   "outputs": [
    {
     "data": {
      "text/plain": [
       "tensor([9, 9, 9, 9, 9, 9, 9, 9, 9, 9, 9, 9, 9, 9, 9, 9, 9, 9, 9, 9, 9, 9, 9, 9,\n",
       "        9, 9, 9, 9, 9, 9, 9, 9], device='cuda:0')"
      ]
     },
     "execution_count": 39,
     "metadata": {},
     "output_type": "execute_result"
    }
   ],
   "source": [
    "torch.argmax(pred, axis=1)"
   ]
  },
  {
   "cell_type": "code",
   "execution_count": null,
   "id": "b59a084e",
   "metadata": {},
   "outputs": [],
   "source": [
    "def cal_acc(pred, label):\n",
    "    '''\n",
    "    pred: batch_size x 26 with probabilities\n",
    "    label: batch_size x 26 in one-hot format\n",
    "    '''\n",
    "    pred_word = torch.argmax(pred, axis=1)\n",
    "    label_word = torch.argmax(label, axis=1)\n",
    "    correct_pred_counts = torch.sum(pred_word == pred_word)\n",
    "    \n",
    "    acc = correct_pred_counts.item() / len(pred) # just float not torch\n",
    "    \n",
    "    return acc"
   ]
  },
  {
   "cell_type": "code",
   "execution_count": 42,
   "id": "9716b9a0",
   "metadata": {},
   "outputs": [],
   "source": [
    "pred = torch.randn((32,26))\n",
    "label = torch.randn((32,26))"
   ]
  },
  {
   "cell_type": "code",
   "execution_count": 45,
   "id": "28e788f9",
   "metadata": {},
   "outputs": [],
   "source": []
  },
  {
   "cell_type": "code",
   "execution_count": 46,
   "id": "eecc2d25",
   "metadata": {},
   "outputs": [],
   "source": []
  },
  {
   "cell_type": "code",
   "execution_count": 48,
   "id": "eecdb854",
   "metadata": {},
   "outputs": [
    {
     "data": {
      "text/plain": [
       "tensor(32)"
      ]
     },
     "execution_count": 48,
     "metadata": {},
     "output_type": "execute_result"
    }
   ],
   "source": [
    "torch.sum(pred_word == pred_word)"
   ]
  },
  {
   "cell_type": "code",
   "execution_count": null,
   "id": "1ecd5c49",
   "metadata": {},
   "outputs": [],
   "source": [
    "pred_word"
   ]
  },
  {
   "cell_type": "code",
   "execution_count": null,
   "id": "dc473cfd",
   "metadata": {},
   "outputs": [],
   "source": []
  },
  {
   "cell_type": "code",
   "execution_count": 3,
   "id": "48a9b252",
   "metadata": {},
   "outputs": [],
   "source": [
    "##############\n",
    "# dataloader #\n",
    "##############"
   ]
  },
  {
   "cell_type": "code",
   "execution_count": 15,
   "id": "4efde571",
   "metadata": {},
   "outputs": [],
   "source": [
    "import os\n",
    "import numpy as np\n",
    "import torchvision.transforms as transforms\n",
    "from torchvision import datasets"
   ]
  },
  {
   "cell_type": "code",
   "execution_count": 16,
   "id": "a54667f8",
   "metadata": {},
   "outputs": [],
   "source": [
    "def get_mean_std(data_dir):\n",
    "    '''\n",
    "    이미지 정규화 시 성능 향상 , 평균과 표준편차로 정규화 실행\n",
    "    data_dir = 이미지 들어있는 폴더 path\n",
    "    '''\n",
    "    transform = transforms.Compose([\n",
    "        transforms.Resize((600, 600)),\n",
    "        transforms.ToTensor()\n",
    "    ])\n",
    "\n",
    "    dataset = datasets.ImageFolder(os.path.join(f'./{data_dir}'), transform)\n",
    "    print(\"데이터 정보\", dataset)\n",
    "\n",
    "    meanRGB = [np.mean(x.numpy(), axis=(1,2)) for x,_ in dataset]\n",
    "    stdRGB = [np.std(x.numpy(), axis=(1,2)) for x,_ in dataset]\n",
    "\n",
    "    meanR = np.mean([m[0] for m in meanRGB])\n",
    "    meanG = np.mean([m[1] for m in meanRGB])\n",
    "    meanB = np.mean([m[2] for m in meanRGB])\n",
    "\n",
    "    stdR = np.mean([s[0] for s in stdRGB])\n",
    "    stdG = np.mean([s[1] for s in stdRGB])\n",
    "    stdB = np.mean([s[2] for s in stdRGB])\n",
    "    print(\"평균\",meanR, meanG, meanB)\n",
    "    print(\"표준편차\",stdR, stdG, stdB)"
   ]
  },
  {
   "cell_type": "code",
   "execution_count": 17,
   "id": "8c4925e9",
   "metadata": {},
   "outputs": [
    {
     "name": "stdout",
     "output_type": "stream",
     "text": [
      "데이터 정보 Dataset ImageFolder\n",
      "    Number of datapoints: 520\n",
      "    Root location: ./data/letter_classifier\n",
      "    StandardTransform\n",
      "Transform: Compose(\n",
      "               Resize(size=(600, 600), interpolation=bilinear, max_size=None, antialias=None)\n",
      "               ToTensor()\n",
      "           )\n",
      "평균 0.89839834 0.89839834 0.89839834\n",
      "표준편차 0.28976783 0.28976783 0.28976783\n"
     ]
    }
   ],
   "source": [
    "# train data, test data 다르게 nomalization 적용하려면 data_dir 바꾸세요.\n",
    "data_dir = \"data/letter_classifier\"\n",
    "get_mean_std(data_dir)"
   ]
  },
  {
   "cell_type": "code",
   "execution_count": 135,
   "id": "d7eaaded",
   "metadata": {},
   "outputs": [],
   "source": [
    "from torch.utils.data.sampler import SubsetRandomSampler\n",
    "import torch\n",
    "\n",
    "data_dir = \"./\"\n",
    "\n",
    "\n",
    "np.random.seed(0)\n",
    "torch.manual_seed(0)\n",
    "\n",
    "def create_datasets(batch_size):\n",
    "    \n",
    "    train_transform = transforms.Compose([\n",
    "    transforms.Grayscale(1),\n",
    "    transforms.RandomRotation([-30, 30], fill=255),\n",
    "    transforms.RandomPerspective(distortion_scale=0.7, p=1, fill=255),\n",
    "    transforms.ToTensor(),  # 이 과정에서 [0, 255]의 범위를 갖는 값들을 [0.0, 1.0]으로 정규화, torch.FloatTensor로 변환\n",
    "    transforms.Normalize([0.89839834], [0.28976783])  #  정규화(normalization)\n",
    "])\n",
    "    test_transform = transforms.Compose([   # 나중에 test 데이터 불러올 때 참고하세요. \n",
    "    transforms.ToTensor(), # 이 과정에서 [0, 255]의 범위를 갖는 값들을 [0.0, 1.0]으로 정규화 \n",
    "    transforms.Grayscale(1),\n",
    "    transforms.Normalize([0.89839834], [0.28976783])  # 테스트 데이터로 계산을 진행해서 따로 지정해주어도 좋습니다\n",
    "])\n",
    "\n",
    "    # choose the training and test datasets\n",
    "    train_data = datasets.ImageFolder(os.path.join(data_dir, 'data/letter_classifier'), train_transform)\n",
    "\n",
    "\n",
    "    # trainning set 중 validation 데이터로 사용할 비율\n",
    "    valid_size = 0.3\n",
    "\n",
    "    # validation으로 사용할 trainning indices를 얻는다.\n",
    "    num_train = len(train_data)\n",
    "    indices = list(range(num_train))\n",
    "    np.random.shuffle(indices)\n",
    "    split = int(np.floor(valid_size * num_train))\n",
    "    train_idx, valid_idx = indices[split:], indices[:split]\n",
    "\n",
    "    # trainning, validation batch를 얻기 위한 sampler정의\n",
    "    train_sampler = SubsetRandomSampler(train_idx)\n",
    "    valid_sampler = SubsetRandomSampler(valid_idx)\n",
    "\n",
    "    # load training data in batches\n",
    "    train_loader = torch.utils.data.DataLoader(train_data,\n",
    "                                               batch_size=batch_size,\n",
    "                                               sampler=train_sampler,\n",
    "                                               num_workers=4)\n",
    "\n",
    "    # load validation data in batches\n",
    "    valid_loader = torch.utils.data.DataLoader(train_data,\n",
    "                                               batch_size=batch_size,\n",
    "                                               sampler=valid_sampler,\n",
    "                                               num_workers=4)\n",
    "\n",
    "    return train_data, train_loader, valid_loader"
   ]
  },
  {
   "cell_type": "code",
   "execution_count": 136,
   "id": "13ce06b0",
   "metadata": {},
   "outputs": [
    {
     "name": "stdout",
     "output_type": "stream",
     "text": [
      "train 데이터셋 크기: 520\n",
      "클래스: ['A', 'B', 'C', 'D', 'E', 'F', 'G', 'H', 'I', 'J', 'K', 'L', 'M', 'N', 'O', 'P', 'Q', 'R', 'S', 'T', 'U', 'V', 'W', 'X', 'Y', 'Z', 'a', 'b', 'c', 'd', 'e', 'f', 'g', 'h', 'i', 'j', 'k', 'l', 'm', 'n', 'o', 'p', 'q', 'r', 's', 't', 'u', 'v', 'w', 'x', 'y', 'z']\n"
     ]
    }
   ],
   "source": [
    "train_data, train_loader, valid_loader = create_datasets(batch_size=4)\n",
    "\n",
    "\n",
    "print('train 데이터셋 크기:', len(train_data))\n",
    "\n",
    "class_names = train_data.classes\n",
    "print('클래스:', class_names)"
   ]
  },
  {
   "cell_type": "code",
   "execution_count": 137,
   "id": "df74a962",
   "metadata": {},
   "outputs": [],
   "source": [
    "import torchvision\n",
    "import matplotlib.pyplot as plt"
   ]
  },
  {
   "cell_type": "code",
   "execution_count": 138,
   "id": "3d9bbb8c",
   "metadata": {},
   "outputs": [],
   "source": [
    "def imshow(input, title):\n",
    "    # torch.Tensor를 numpy 객체로 변환\n",
    "    input = input.numpy().transpose((1, 2, 0))\n",
    "    # 이미지 정규화 해제하기\n",
    "    mean = np.array([0.89839834, 0.89839834, 0.89839834])\n",
    "    std = np.array([0.28976783, 0.28976783, 0.28976783])\n",
    "    input = std * input + mean\n",
    "    input = np.clip(input, 0, 1)\n",
    "\n",
    "    # 이미지 출력\n",
    "    plt.imshow(input)\n",
    "    plt.title(title)\n",
    "    plt.show()"
   ]
  },
  {
   "cell_type": "code",
   "execution_count": 139,
   "id": "a24d5fa2",
   "metadata": {},
   "outputs": [
    {
     "data": {
      "image/png": "[encoded data removed]",
      "text/plain": [
       "<Figure size 640x480 with 1 Axes>"
      ]
     },
     "metadata": {},
     "output_type": "display_data"
    },
    {
     "name": "stdout",
     "output_type": "stream",
     "text": [
      "torch.Size([4, 1, 600, 600])\n"
     ]
    }
   ],
   "source": [
    "iterator = iter(train_loader)\n",
    "\n",
    "# 현재 배치를 이용해 격자 형태의 이미지를 만들어 시각화\n",
    "inputs, classes = next(iterator)\n",
    "out = torchvision.utils.make_grid(inputs)\n",
    "imshow(out, title=[class_names[x] for x in classes])\n",
    "print(inputs.shape)"
   ]
  },
  {
   "cell_type": "code",
   "execution_count": 44,
   "id": "41cc9169",
   "metadata": {},
   "outputs": [],
   "source": [
    "a = [1,2,3]"
   ]
  },
  {
   "cell_type": "code",
   "execution_count": 47,
   "id": "c3d0b83e",
   "metadata": {},
   "outputs": [],
   "source": [
    "np.save('test.npy', a)"
   ]
  },
  {
   "cell_type": "code",
   "execution_count": 48,
   "id": "f6be8f77",
   "metadata": {},
   "outputs": [],
   "source": [
    "tmp = np.load('test.npy')"
   ]
  },
  {
   "cell_type": "code",
   "execution_count": 49,
   "id": "e4ed0f57",
   "metadata": {},
   "outputs": [
    {
     "data": {
      "text/plain": [
       "array([1, 2, 3])"
      ]
     },
     "execution_count": 49,
     "metadata": {},
     "output_type": "execute_result"
    }
   ],
   "source": [
    "tmp"
   ]
  },
  {
   "cell_type": "code",
   "execution_count": null,
   "id": "2fd8bcbc",
   "metadata": {},
   "outputs": [],
   "source": []
  },
  {
   "cell_type": "code",
   "execution_count": null,
   "id": "99015d80",
   "metadata": {},
   "outputs": [],
   "source": [
    "\n",
    "\n",
    "plt.figure(figsize=(10, 5))\n",
    "plt.plot(train_loss_buffer, label='train', color='blue')\n",
    "plt.plot(valid_loss_buffer, label='valid', color='red')\n",
    "plt.xlabel('Epochs')\n",
    "plt.title('Cross Entropy Loss')\n",
    "plt.savefig('./training_logs/1_loss.png')\n",
    "\n",
    "plt.figure(figsize=(10, 5))\n",
    "plt.plot(train_acc_buffer, label='train', color='blue')\n",
    "plt.plot(valid_acc_buffer, label='valid', color='red')\n",
    "plt.xlabel('Epochs')\n",
    "plt.title('Accuracy')\n",
    "plt.savefig('./training_logs/1_acc.png')"
   ]
  }
 ],
 "metadata": {
  "kernelspec": {
   "display_name": "word",
   "language": "python",
   "name": "word"
  },
  "language_info": {
   "codemirror_mode": {
    "name": "ipython",
    "version": 3
   },
   "file_extension": ".py",
   "mimetype": "text/x-python",
   "name": "python",
   "nbconvert_exporter": "python",
   "pygments_lexer": "ipython3",
   "version": "3.8.15"
  }
 },
 "nbformat": 4,
 "nbformat_minor": 5
}
